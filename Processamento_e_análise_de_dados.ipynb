{
  "nbformat": 4,
  "nbformat_minor": 0,
  "metadata": {
    "colab": {
      "provenance": [],
      "mount_file_id": "https://github.com/joaoramos23/Processamento-e-analise-de-dados/blob/main/Processamento_e_an%C3%A1lise_de_dados.ipynb",
      "authorship_tag": "ABX9TyNS306/GvG5hL1MOYae9gct",
      "include_colab_link": true
    },
    "kernelspec": {
      "name": "python3",
      "display_name": "Python 3"
    },
    "language_info": {
      "name": "python"
    }
  },
  "cells": [
    {
      "cell_type": "markdown",
      "metadata": {
        "id": "view-in-github",
        "colab_type": "text"
      },
      "source": [
        "<a href=\"https://colab.research.google.com/github/joaoramos23/Processamento-e-analise-de-dados/blob/main/Processamento_e_an%C3%A1lise_de_dados.ipynb\" target=\"_parent\"><img src=\"https://colab.research.google.com/assets/colab-badge.svg\" alt=\"Open In Colab\"/></a>"
      ]
    },
    {
      "cell_type": "markdown",
      "source": [
        "# Processamento e análise de dados"
      ],
      "metadata": {
        "id": "57uaVgPgNn0i"
      }
    },
    {
      "cell_type": "code",
      "source": [
        "import csv"
      ],
      "metadata": {
        "id": "u85-yiiMbslv"
      },
      "execution_count": 182,
      "outputs": []
    },
    {
      "cell_type": "code",
      "execution_count": 183,
      "metadata": {
        "id": "APMavzJJM-Xw",
        "colab": {
          "base_uri": "https://localhost:8080/"
        },
        "outputId": "554a8a24-ed46-4145-bef1-57ba5cff9218"
      },
      "outputs": [
        {
          "output_type": "execute_result",
          "data": {
            "text/plain": [
              "[['RA', 'Nome', 'Frequencia', 'Prova_1', 'Prova_2', 'Prova_3', 'Prova_4'],\n",
              " ['110201', 'Antonio Carlos', '20', '6.5', '8.5', '7', '6'],\n",
              " ['110212', 'Ana Beatriz', '20', '7', '7', '7', '8'],\n",
              " ['110218', 'Carlos Vernes', '17', '7', '7', '7', '7'],\n",
              " ['110307', 'Francisco Cunha', '20', '9', '8.5', '8.5', '10'],\n",
              " ['110275', 'Sandra Rosa', '15', '6.5', '7.5', '7', '7'],\n",
              " ['110281', 'Juliana Arruda', '18', '7.5', '7', '7.5', '8'],\n",
              " ['110301', 'Joao Galo', '20', '5', '6.5', '7', '5'],\n",
              " ['110263', 'José Valente', '20', '10', '10', '10', '10'],\n",
              " ['110271', 'Maria Ferreira', '19', '9.5', '8', '7', '10'],\n",
              " ['110236', 'Adriana Tavares', '20', '8', '8', '8', '8']]"
            ]
          },
          "metadata": {},
          "execution_count": 183
        }
      ],
      "source": [
        "f = open('alunos.csv', 'r', encoding='utf-8')\n",
        "\n",
        "leitor = csv.reader(f, delimiter=\";\", lineterminator=\"\\n\")\n",
        "\n",
        "planilha = []\n",
        "\n",
        "for linha in leitor:\n",
        "  planilha.append(linha)\n",
        "\n",
        "f.close()\n",
        "\n",
        "planilha"
      ]
    },
    {
      "cell_type": "code",
      "source": [
        "with open('alunos.csv', 'r', encoding='utf-8') as f:\n",
        "  planilha = [linha for linha in csv.reader(f, delimiter=';', lineterminator='\\n')]\n",
        "\n",
        "planilha"
      ],
      "metadata": {
        "id": "np1VV7D8bxFy",
        "outputId": "a058244c-b350-4ecc-c9b8-29b65d22133c",
        "colab": {
          "base_uri": "https://localhost:8080/"
        }
      },
      "execution_count": 184,
      "outputs": [
        {
          "output_type": "execute_result",
          "data": {
            "text/plain": [
              "[['RA', 'Nome', 'Frequencia', 'Prova_1', 'Prova_2', 'Prova_3', 'Prova_4'],\n",
              " ['110201', 'Antonio Carlos', '20', '6.5', '8.5', '7', '6'],\n",
              " ['110212', 'Ana Beatriz', '20', '7', '7', '7', '8'],\n",
              " ['110218', 'Carlos Vernes', '17', '7', '7', '7', '7'],\n",
              " ['110307', 'Francisco Cunha', '20', '9', '8.5', '8.5', '10'],\n",
              " ['110275', 'Sandra Rosa', '15', '6.5', '7.5', '7', '7'],\n",
              " ['110281', 'Juliana Arruda', '18', '7.5', '7', '7.5', '8'],\n",
              " ['110301', 'Joao Galo', '20', '5', '6.5', '7', '5'],\n",
              " ['110263', 'José Valente', '20', '10', '10', '10', '10'],\n",
              " ['110271', 'Maria Ferreira', '19', '9.5', '8', '7', '10'],\n",
              " ['110236', 'Adriana Tavares', '20', '8', '8', '8', '8']]"
            ]
          },
          "metadata": {},
          "execution_count": 184
        }
      ]
    },
    {
      "cell_type": "code",
      "source": [
        "# Encontrar indexs das colunas pelo nome, esses são as colunas que precisam ser tipo float.\n",
        "\n",
        "lista_index = list()\n",
        "\n",
        "for coluna in planilha[0]:\n",
        "  if coluna in ['Prova_1', 'Prova_2', 'Prova_3', 'Prova_4']:\n",
        "    lista_index.append(planilha[0].index(coluna))\n",
        "\n",
        "lista_index"
      ],
      "metadata": {
        "colab": {
          "base_uri": "https://localhost:8080/"
        },
        "id": "op_ot2H3TOrD",
        "outputId": "2be54ea5-90cc-4246-d2ba-a932a790c389"
      },
      "execution_count": 185,
      "outputs": [
        {
          "output_type": "execute_result",
          "data": {
            "text/plain": [
              "[3, 4, 5, 6]"
            ]
          },
          "metadata": {},
          "execution_count": 185
        }
      ]
    },
    {
      "cell_type": "code",
      "source": [
        "# Percorrer a lista e alterar os dados dos indexs anteriores para tipo float.\n",
        "\n",
        "for linha in range(len(planilha)):\n",
        "  for index in lista_index:\n",
        "    if (linha != 0):\n",
        "      planilha[linha][index] = float(planilha[linha][index])"
      ],
      "metadata": {
        "id": "6LV8gcvOUhAf"
      },
      "execution_count": 186,
      "outputs": []
    },
    {
      "cell_type": "code",
      "source": [
        "# Encontrar indexs das colunas pelo nome, esses são as colunas que precisam ser tipo int.\n",
        "\n",
        "lista_index = list()\n",
        "\n",
        "for coluna in planilha[0]:\n",
        "  if coluna in ['RA', 'Frequencia']:\n",
        "    lista_index.append(planilha[0].index(coluna))\n",
        "\n",
        "lista_index"
      ],
      "metadata": {
        "colab": {
          "base_uri": "https://localhost:8080/"
        },
        "id": "xB4xXFDUYcVD",
        "outputId": "77cea73e-9051-40a8-9a7d-27fcff1973d6"
      },
      "execution_count": 187,
      "outputs": [
        {
          "output_type": "execute_result",
          "data": {
            "text/plain": [
              "[0, 2]"
            ]
          },
          "metadata": {},
          "execution_count": 187
        }
      ]
    },
    {
      "cell_type": "code",
      "source": [
        "# Percorrer a lista e alterar os dados dos indexs anteriores para tipo int.\n",
        "\n",
        "for linha in range(len(planilha)):\n",
        "  for index in lista_index:\n",
        "    if (linha != 0):\n",
        "      planilha[linha][index] = int(planilha[linha][index])"
      ],
      "metadata": {
        "id": "oEPKRCHyYhgD"
      },
      "execution_count": 188,
      "outputs": []
    },
    {
      "cell_type": "code",
      "source": [
        "planilha"
      ],
      "metadata": {
        "colab": {
          "base_uri": "https://localhost:8080/"
        },
        "id": "kqTTunDiXyOj",
        "outputId": "7a81d036-553f-4396-9823-79dd7e05c56b"
      },
      "execution_count": 189,
      "outputs": [
        {
          "output_type": "execute_result",
          "data": {
            "text/plain": [
              "[['RA', 'Nome', 'Frequencia', 'Prova_1', 'Prova_2', 'Prova_3', 'Prova_4'],\n",
              " [110201, 'Antonio Carlos', 20, 6.5, 8.5, 7.0, 6.0],\n",
              " [110212, 'Ana Beatriz', 20, 7.0, 7.0, 7.0, 8.0],\n",
              " [110218, 'Carlos Vernes', 17, 7.0, 7.0, 7.0, 7.0],\n",
              " [110307, 'Francisco Cunha', 20, 9.0, 8.5, 8.5, 10.0],\n",
              " [110275, 'Sandra Rosa', 15, 6.5, 7.5, 7.0, 7.0],\n",
              " [110281, 'Juliana Arruda', 18, 7.5, 7.0, 7.5, 8.0],\n",
              " [110301, 'Joao Galo', 20, 5.0, 6.5, 7.0, 5.0],\n",
              " [110263, 'José Valente', 20, 10.0, 10.0, 10.0, 10.0],\n",
              " [110271, 'Maria Ferreira', 19, 9.5, 8.0, 7.0, 10.0],\n",
              " [110236, 'Adriana Tavares', 20, 8.0, 8.0, 8.0, 8.0]]"
            ]
          },
          "metadata": {},
          "execution_count": 189
        }
      ]
    },
    {
      "cell_type": "code",
      "source": [
        "[item[1] for item in planilha]"
      ],
      "metadata": {
        "id": "mVQ40s5vdG-K",
        "outputId": "d840f9b6-28bc-41e9-898b-dcf5e09ec011",
        "colab": {
          "base_uri": "https://localhost:8080/"
        }
      },
      "execution_count": 190,
      "outputs": [
        {
          "output_type": "execute_result",
          "data": {
            "text/plain": [
              "['Nome',\n",
              " 'Antonio Carlos',\n",
              " 'Ana Beatriz',\n",
              " 'Carlos Vernes',\n",
              " 'Francisco Cunha',\n",
              " 'Sandra Rosa',\n",
              " 'Juliana Arruda',\n",
              " 'Joao Galo',\n",
              " 'José Valente',\n",
              " 'Maria Ferreira',\n",
              " 'Adriana Tavares']"
            ]
          },
          "metadata": {},
          "execution_count": 190
        }
      ]
    },
    {
      "cell_type": "code",
      "source": [
        "for item in planilha:\n",
        "  print(item[1])"
      ],
      "metadata": {
        "id": "9U6FdcrjdMzR",
        "outputId": "9516f122-5c01-4aa0-c2f8-4ae369431378",
        "colab": {
          "base_uri": "https://localhost:8080/"
        }
      },
      "execution_count": 191,
      "outputs": [
        {
          "output_type": "stream",
          "name": "stdout",
          "text": [
            "Nome\n",
            "Antonio Carlos\n",
            "Ana Beatriz\n",
            "Carlos Vernes\n",
            "Francisco Cunha\n",
            "Sandra Rosa\n",
            "Juliana Arruda\n",
            "Joao Galo\n",
            "José Valente\n",
            "Maria Ferreira\n",
            "Adriana Tavares\n"
          ]
        }
      ]
    },
    {
      "cell_type": "code",
      "source": [
        "aluno = 'José Valente'\n",
        "coluna = 'Nome'\n",
        "coluna_notas = ['Prova_1', 'Prova_2', 'Prova_3', 'Prova_4']\n",
        "\n",
        "\n",
        "index_nome = planilha[0].index(coluna)\n",
        "\n",
        "linha_nome = [linha[index_nome] for linha in planilha]\n",
        "\n",
        "index_linha = linha_nome.index(aluno)\n",
        "\n",
        "info_aluno = [notas for notas in planilha[index_linha]]\n",
        "\n",
        "index_notas = [planilha[0].index(coluna) for coluna in coluna_notas]\n",
        "\n",
        "notas = [planilha[index_linha][nota] for nota in index_notas]\n",
        "\n",
        "media = sum(notas) / len(notas)\n",
        "\n",
        "media"
      ],
      "metadata": {
        "id": "fUsTf_kodXoU",
        "outputId": "aa5ccf8f-7b88-48ea-ed6c-cfa8c6d4dd0a",
        "colab": {
          "base_uri": "https://localhost:8080/"
        }
      },
      "execution_count": 192,
      "outputs": [
        {
          "output_type": "execute_result",
          "data": {
            "text/plain": [
              "10.0"
            ]
          },
          "metadata": {},
          "execution_count": 192
        }
      ]
    },
    {
      "cell_type": "code",
      "source": [
        "coluna_notas = ['Prova_1', 'Prova_2', 'Prova_3', 'Prova_4']\n",
        "nome_coluna = 'Média'\n",
        "\n",
        "index_coluna_notas = [planilha[0].index(index_coluna) for index_coluna in coluna_notas]\n",
        "\n",
        "planilha[0].append(nome_coluna)\n",
        "\n",
        "for i,linha in enumerate(planilha):\n",
        "  if(i >= 1):\n",
        "    soma = sum([linha[indice] for indice in index_coluna_notas])\n",
        "    media = soma / len(index_coluna_notas)\n",
        "    planilha[i].append(media)\n",
        "\n",
        "planilha"
      ],
      "metadata": {
        "id": "ykmOaxrfUdpb",
        "outputId": "3988fb53-92b3-4267-ea81-91ad94014eae",
        "colab": {
          "base_uri": "https://localhost:8080/"
        }
      },
      "execution_count": 194,
      "outputs": [
        {
          "output_type": "execute_result",
          "data": {
            "text/plain": [
              "[['RA',\n",
              "  'Nome',\n",
              "  'Frequencia',\n",
              "  'Prova_1',\n",
              "  'Prova_2',\n",
              "  'Prova_3',\n",
              "  'Prova_4',\n",
              "  'Média',\n",
              "  'Média'],\n",
              " [110201, 'Antonio Carlos', 20, 6.5, 8.5, 7.0, 6.0, 7.0, 7.0],\n",
              " [110212, 'Ana Beatriz', 20, 7.0, 7.0, 7.0, 8.0, 7.25, 7.25],\n",
              " [110218, 'Carlos Vernes', 17, 7.0, 7.0, 7.0, 7.0, 7.0, 7.0],\n",
              " [110307, 'Francisco Cunha', 20, 9.0, 8.5, 8.5, 10.0, 9.0, 9.0],\n",
              " [110275, 'Sandra Rosa', 15, 6.5, 7.5, 7.0, 7.0, 7.0, 7.0],\n",
              " [110281, 'Juliana Arruda', 18, 7.5, 7.0, 7.5, 8.0, 7.5, 7.5],\n",
              " [110301, 'Joao Galo', 20, 5.0, 6.5, 7.0, 5.0, 5.875, 5.875],\n",
              " [110263, 'José Valente', 20, 10.0, 10.0, 10.0, 10.0, 10.0, 10.0],\n",
              " [110271, 'Maria Ferreira', 19, 9.5, 8.0, 7.0, 10.0, 8.625, 8.625],\n",
              " [110236, 'Adriana Tavares', 20, 8.0, 8.0, 8.0, 8.0, 8.0, 8.0]]"
            ]
          },
          "metadata": {},
          "execution_count": 194
        }
      ]
    }
  ]
}
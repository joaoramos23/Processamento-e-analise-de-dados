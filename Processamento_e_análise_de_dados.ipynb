{
  "nbformat": 4,
  "nbformat_minor": 0,
  "metadata": {
    "colab": {
      "provenance": [],
      "authorship_tag": "ABX9TyPHEAfXhaiCPRTOkN8bW5+L",
      "include_colab_link": true
    },
    "kernelspec": {
      "name": "python3",
      "display_name": "Python 3"
    },
    "language_info": {
      "name": "python"
    }
  },
  "cells": [
    {
      "cell_type": "markdown",
      "metadata": {
        "id": "view-in-github",
        "colab_type": "text"
      },
      "source": [
        "<a href=\"https://colab.research.google.com/github/joaoramos23/Processamento-e-analise-de-dados/blob/main/Processamento_e_an%C3%A1lise_de_dados.ipynb\" target=\"_parent\"><img src=\"https://colab.research.google.com/assets/colab-badge.svg\" alt=\"Open In Colab\"/></a>"
      ]
    },
    {
      "cell_type": "markdown",
      "source": [
        "# Processamento e análise de dados"
      ],
      "metadata": {
        "id": "57uaVgPgNn0i"
      }
    },
    {
      "cell_type": "code",
      "source": [
        "import csv"
      ],
      "metadata": {
        "id": "u85-yiiMbslv"
      },
      "execution_count": 60,
      "outputs": []
    },
    {
      "cell_type": "code",
      "execution_count": 61,
      "metadata": {
        "id": "APMavzJJM-Xw",
        "colab": {
          "base_uri": "https://localhost:8080/"
        },
        "outputId": "dbccc08e-694a-4acf-b4a1-b567bf49ba4a"
      },
      "outputs": [
        {
          "output_type": "execute_result",
          "data": {
            "text/plain": [
              "[['RA', 'Nome', 'Frequencia', 'Prova_1', 'Prova_2', 'Prova_3', 'Prova_4'],\n",
              " ['110201', 'Antonio Carlos', '20', '6.5', '8.5', '7', '6'],\n",
              " ['110212', 'Ana Beatriz', '20', '7', '7', '7', '8'],\n",
              " ['110218', 'Carlos Vernes', '17', '7', '7', '7', '7'],\n",
              " ['110307', 'Francisco Cunha', '20', '9', '8.5', '8.5', '10'],\n",
              " ['110275', 'Sandra Rosa', '15', '6.5', '7.5', '7', '7'],\n",
              " ['110281', 'Juliana Arruda', '18', '7.5', '7', '7.5', '8'],\n",
              " ['110301', 'Joao Galo', '20', '5', '6.5', '7', '5'],\n",
              " ['110263', 'José Valente', '20', '10', '10', '10', '10'],\n",
              " ['110271', 'Maria Ferreira', '19', '9.5', '8', '7', '10'],\n",
              " ['110236', 'Adriana Tavares', '20', '8', '8', '8', '8']]"
            ]
          },
          "metadata": {},
          "execution_count": 61
        }
      ],
      "source": [
        "f = open('alunos.csv', 'r', encoding='utf-8')\n",
        "\n",
        "leitor = csv.reader(f, delimiter=\";\", lineterminator=\"\\n\")\n",
        "\n",
        "planilha = []\n",
        "\n",
        "for linha in leitor:\n",
        "  planilha.append(linha)\n",
        "\n",
        "f.close()\n",
        "\n",
        "planilha"
      ]
    },
    {
      "cell_type": "code",
      "source": [
        "with open('alunos.csv', 'r', encoding='utf-8') as f:\n",
        "  planilha = [linha for linha in csv.reader(f, delimiter=';', lineterminator='\\n')]\n",
        "\n",
        "planilha"
      ],
      "metadata": {
        "id": "np1VV7D8bxFy",
        "outputId": "d779a0c6-3146-4358-ff9d-0a376030f29a",
        "colab": {
          "base_uri": "https://localhost:8080/"
        }
      },
      "execution_count": 67,
      "outputs": [
        {
          "output_type": "execute_result",
          "data": {
            "text/plain": [
              "[['RA', 'Nome', 'Frequencia', 'Prova_1', 'Prova_2', 'Prova_3', 'Prova_4'],\n",
              " ['110201', 'Antonio Carlos', '20', '6.5', '8.5', '7', '6'],\n",
              " ['110212', 'Ana Beatriz', '20', '7', '7', '7', '8'],\n",
              " ['110218', 'Carlos Vernes', '17', '7', '7', '7', '7'],\n",
              " ['110307', 'Francisco Cunha', '20', '9', '8.5', '8.5', '10'],\n",
              " ['110275', 'Sandra Rosa', '15', '6.5', '7.5', '7', '7'],\n",
              " ['110281', 'Juliana Arruda', '18', '7.5', '7', '7.5', '8'],\n",
              " ['110301', 'Joao Galo', '20', '5', '6.5', '7', '5'],\n",
              " ['110263', 'José Valente', '20', '10', '10', '10', '10'],\n",
              " ['110271', 'Maria Ferreira', '19', '9.5', '8', '7', '10'],\n",
              " ['110236', 'Adriana Tavares', '20', '8', '8', '8', '8']]"
            ]
          },
          "metadata": {},
          "execution_count": 67
        }
      ]
    },
    {
      "cell_type": "code",
      "source": [
        "# Encontrar indexs das colunas pelo nome, esses são as colunas que precisam ser tipo float.\n",
        "\n",
        "lista_index = list()\n",
        "\n",
        "for coluna in planilha[0]:\n",
        "  if coluna in ['Prova_1', 'Prova_2', 'Prova_3', 'Prova_4']:\n",
        "    lista_index.append(planilha[0].index(coluna))\n",
        "\n",
        "lista_index"
      ],
      "metadata": {
        "colab": {
          "base_uri": "https://localhost:8080/"
        },
        "id": "op_ot2H3TOrD",
        "outputId": "17be0056-1257-48ba-a13e-5710f6823725"
      },
      "execution_count": 54,
      "outputs": [
        {
          "output_type": "execute_result",
          "data": {
            "text/plain": [
              "[3, 4, 5, 6]"
            ]
          },
          "metadata": {},
          "execution_count": 54
        }
      ]
    },
    {
      "cell_type": "code",
      "source": [
        "# Encontrar indexs das colunas pelo nome, esses são as colunas que precisam ser tipo int.\n",
        "\n",
        "lista_index = list()\n",
        "\n",
        "for coluna in planilha[0]:\n",
        "  if coluna in ['RA', 'Frequencia']:\n",
        "    lista_index.append(planilha[0].index(coluna))\n",
        "\n",
        "lista_index"
      ],
      "metadata": {
        "colab": {
          "base_uri": "https://localhost:8080/"
        },
        "id": "xB4xXFDUYcVD",
        "outputId": "81b6ed5d-c8d6-4f3a-9e77-bb744f812666"
      },
      "execution_count": 57,
      "outputs": [
        {
          "output_type": "execute_result",
          "data": {
            "text/plain": [
              "[0, 2]"
            ]
          },
          "metadata": {},
          "execution_count": 57
        }
      ]
    },
    {
      "cell_type": "code",
      "source": [
        "# Percorrer a lista e alterar os dados dos indexs anteriores para tipo float.\n",
        "\n",
        "for linha in range(len(planilha)):\n",
        "  for index in lista_index:\n",
        "    if (linha != 0):\n",
        "      planilha[linha][index] = float(planilha[linha][index])"
      ],
      "metadata": {
        "id": "6LV8gcvOUhAf"
      },
      "execution_count": 55,
      "outputs": []
    },
    {
      "cell_type": "code",
      "source": [
        "# Percorrer a lista e alterar os dados dos indexs anteriores para tipo int.\n",
        "\n",
        "for linha in range(len(planilha)):\n",
        "  for index in lista_index:\n",
        "    if (linha != 0):\n",
        "      planilha[linha][index] = int(planilha[linha][index])"
      ],
      "metadata": {
        "id": "oEPKRCHyYhgD"
      },
      "execution_count": 58,
      "outputs": []
    },
    {
      "cell_type": "code",
      "source": [
        "planilha"
      ],
      "metadata": {
        "colab": {
          "base_uri": "https://localhost:8080/"
        },
        "id": "kqTTunDiXyOj",
        "outputId": "d0ebbd9b-1405-4467-aec8-fd7d4aff12d9"
      },
      "execution_count": 59,
      "outputs": [
        {
          "output_type": "execute_result",
          "data": {
            "text/plain": [
              "[['RA', 'Nome', 'Frequencia', 'Prova_1', 'Prova_2', 'Prova_3', 'Prova_4'],\n",
              " [110201, 'Antonio Carlos', 20, 6.5, 8.5, 7.0, 6.0],\n",
              " [110212, 'Ana Beatriz', 20, 7.0, 7.0, 7.0, 8.0],\n",
              " [110218, 'Carlos Vernes', 17, 7.0, 7.0, 7.0, 7.0],\n",
              " [110307, 'Francisco Cunha', 20, 9.0, 8.5, 8.5, 10.0],\n",
              " [110275, 'Sandra Rosa', 15, 6.5, 7.5, 7.0, 7.0],\n",
              " [110281, 'Juliana Arruda', 18, 7.5, 7.0, 7.5, 8.0],\n",
              " [110301, 'Joao Galo', 20, 5.0, 6.5, 7.0, 5.0],\n",
              " [110263, 'José Valente', 20, 10.0, 10.0, 10.0, 10.0],\n",
              " [110271, 'Maria Ferreira', 19, 9.5, 8.0, 7.0, 10.0],\n",
              " [110236, 'Adriana Tavares', 20, 8.0, 8.0, 8.0, 8.0]]"
            ]
          },
          "metadata": {},
          "execution_count": 59
        }
      ]
    },
    {
      "cell_type": "code",
      "source": [
        "[item[1] for item in planilha]"
      ],
      "metadata": {
        "id": "mVQ40s5vdG-K",
        "outputId": "75f071a3-28b2-49fd-8c89-0eeb5417587f",
        "colab": {
          "base_uri": "https://localhost:8080/"
        }
      },
      "execution_count": 68,
      "outputs": [
        {
          "output_type": "execute_result",
          "data": {
            "text/plain": [
              "['Nome',\n",
              " 'Antonio Carlos',\n",
              " 'Ana Beatriz',\n",
              " 'Carlos Vernes',\n",
              " 'Francisco Cunha',\n",
              " 'Sandra Rosa',\n",
              " 'Juliana Arruda',\n",
              " 'Joao Galo',\n",
              " 'José Valente',\n",
              " 'Maria Ferreira',\n",
              " 'Adriana Tavares']"
            ]
          },
          "metadata": {},
          "execution_count": 68
        }
      ]
    },
    {
      "cell_type": "code",
      "source": [
        "for item in planilha:\n",
        "  print(item[1])"
      ],
      "metadata": {
        "id": "9U6FdcrjdMzR",
        "outputId": "d550512e-f1e9-4cce-d293-f494b51ac24f",
        "colab": {
          "base_uri": "https://localhost:8080/"
        }
      },
      "execution_count": 69,
      "outputs": [
        {
          "output_type": "stream",
          "name": "stdout",
          "text": [
            "Nome\n",
            "Antonio Carlos\n",
            "Ana Beatriz\n",
            "Carlos Vernes\n",
            "Francisco Cunha\n",
            "Sandra Rosa\n",
            "Juliana Arruda\n",
            "Joao Galo\n",
            "José Valente\n",
            "Maria Ferreira\n",
            "Adriana Tavares\n"
          ]
        }
      ]
    },
    {
      "cell_type": "code",
      "source": [],
      "metadata": {
        "id": "fUsTf_kodXoU",
        "outputId": "68f7b9fb-6961-41b7-9954-5ebf9cc39f39",
        "colab": {
          "base_uri": "https://localhost:8080/"
        }
      },
      "execution_count": 82,
      "outputs": [
        {
          "output_type": "stream",
          "name": "stdout",
          "text": [
            "['110201', 'Antonio Carlos', '20', '6.5', '8.5', '7', '6']\n"
          ]
        }
      ]
    }
  ]
}
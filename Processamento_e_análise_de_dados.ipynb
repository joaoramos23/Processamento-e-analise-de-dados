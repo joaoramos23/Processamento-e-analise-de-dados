{
  "nbformat": 4,
  "nbformat_minor": 0,
  "metadata": {
    "colab": {
      "provenance": [],
      "mount_file_id": "https://github.com/joaoramos23/Processamento-e-analise-de-dados/blob/main/Processamento_e_an%C3%A1lise_de_dados.ipynb",
      "authorship_tag": "ABX9TyNdjCmaMf82DJSOII2iKWhI",
      "include_colab_link": true
    },
    "kernelspec": {
      "name": "python3",
      "display_name": "Python 3"
    },
    "language_info": {
      "name": "python"
    }
  },
  "cells": [
    {
      "cell_type": "markdown",
      "metadata": {
        "id": "view-in-github",
        "colab_type": "text"
      },
      "source": [
        "<a href=\"https://colab.research.google.com/github/joaoramos23/Processamento-e-analise-de-dados/blob/main/Processamento_e_an%C3%A1lise_de_dados.ipynb\" target=\"_parent\"><img src=\"https://colab.research.google.com/assets/colab-badge.svg\" alt=\"Open In Colab\"/></a>"
      ]
    },
    {
      "cell_type": "markdown",
      "source": [
        "# Processamento e análise de dados"
      ],
      "metadata": {
        "id": "57uaVgPgNn0i"
      }
    },
    {
      "cell_type": "code",
      "source": [
        "import csv"
      ],
      "metadata": {
        "id": "u85-yiiMbslv"
      },
      "execution_count": 231,
      "outputs": []
    },
    {
      "cell_type": "code",
      "execution_count": 232,
      "metadata": {
        "id": "APMavzJJM-Xw",
        "colab": {
          "base_uri": "https://localhost:8080/"
        },
        "outputId": "6d8da89c-d996-4115-8a13-4dda52111428"
      },
      "outputs": [
        {
          "output_type": "execute_result",
          "data": {
            "text/plain": [
              "[['RA', 'Nome', 'Frequencia', 'Prova_1', 'Prova_2', 'Prova_3', 'Prova_4'],\n",
              " ['110201', 'Antonio Carlos', '20', '6.5', '8.5', '7', '6'],\n",
              " ['110212', 'Ana Beatriz', '20', '7', '7', '7', '8'],\n",
              " ['110218', 'Carlos Vernes', '17', '7', '7', '7', '7'],\n",
              " ['110307', 'Francisco Cunha', '20', '9', '8.5', '8.5', '10'],\n",
              " ['110275', 'Sandra Rosa', '15', '6.5', '7.5', '7', '7'],\n",
              " ['110281', 'Juliana Arruda', '18', '7.5', '7', '7.5', '8'],\n",
              " ['110301', 'Joao Galo', '20', '5', '6.5', '7', '5'],\n",
              " ['110263', 'José Valente', '20', '10', '10', '10', '10'],\n",
              " ['110271', 'Maria Ferreira', '19', '9.5', '8', '7', '10'],\n",
              " ['110236', 'Adriana Tavares', '20', '8', '8', '8', '8']]"
            ]
          },
          "metadata": {},
          "execution_count": 232
        }
      ],
      "source": [
        "f = open('alunos.csv', 'r', encoding='utf-8')\n",
        "\n",
        "leitor = csv.reader(f, delimiter=\";\", lineterminator=\"\\n\")\n",
        "\n",
        "planilha = []\n",
        "\n",
        "for linha in leitor:\n",
        "  planilha.append(linha)\n",
        "\n",
        "f.close()\n",
        "\n",
        "planilha"
      ]
    },
    {
      "cell_type": "code",
      "source": [
        "with open('alunos.csv', 'r', encoding='utf-8') as f:\n",
        "  planilha = [linha for linha in csv.reader(f, delimiter=';', lineterminator='\\n')]\n",
        "\n",
        "planilha"
      ],
      "metadata": {
        "id": "np1VV7D8bxFy",
        "outputId": "4f209f2e-721d-427e-b23f-5061aa7972fa",
        "colab": {
          "base_uri": "https://localhost:8080/"
        }
      },
      "execution_count": 233,
      "outputs": [
        {
          "output_type": "execute_result",
          "data": {
            "text/plain": [
              "[['RA', 'Nome', 'Frequencia', 'Prova_1', 'Prova_2', 'Prova_3', 'Prova_4'],\n",
              " ['110201', 'Antonio Carlos', '20', '6.5', '8.5', '7', '6'],\n",
              " ['110212', 'Ana Beatriz', '20', '7', '7', '7', '8'],\n",
              " ['110218', 'Carlos Vernes', '17', '7', '7', '7', '7'],\n",
              " ['110307', 'Francisco Cunha', '20', '9', '8.5', '8.5', '10'],\n",
              " ['110275', 'Sandra Rosa', '15', '6.5', '7.5', '7', '7'],\n",
              " ['110281', 'Juliana Arruda', '18', '7.5', '7', '7.5', '8'],\n",
              " ['110301', 'Joao Galo', '20', '5', '6.5', '7', '5'],\n",
              " ['110263', 'José Valente', '20', '10', '10', '10', '10'],\n",
              " ['110271', 'Maria Ferreira', '19', '9.5', '8', '7', '10'],\n",
              " ['110236', 'Adriana Tavares', '20', '8', '8', '8', '8']]"
            ]
          },
          "metadata": {},
          "execution_count": 233
        }
      ]
    },
    {
      "cell_type": "code",
      "source": [
        "# Encontrar indexs das colunas pelo nome, esses são as colunas que precisam ser tipo float.\n",
        "\n",
        "lista_index = list()\n",
        "\n",
        "for coluna in planilha[0]:\n",
        "  if coluna in ['Prova_1', 'Prova_2', 'Prova_3', 'Prova_4']:\n",
        "    lista_index.append(planilha[0].index(coluna))\n",
        "\n",
        "lista_index"
      ],
      "metadata": {
        "colab": {
          "base_uri": "https://localhost:8080/"
        },
        "id": "op_ot2H3TOrD",
        "outputId": "b3934fc5-8ae4-4439-df6c-06fb845aba55"
      },
      "execution_count": 234,
      "outputs": [
        {
          "output_type": "execute_result",
          "data": {
            "text/plain": [
              "[3, 4, 5, 6]"
            ]
          },
          "metadata": {},
          "execution_count": 234
        }
      ]
    },
    {
      "cell_type": "code",
      "source": [
        "# Percorrer a lista e alterar os dados dos indexs anteriores para tipo float.\n",
        "\n",
        "for linha in range(len(planilha)):\n",
        "  for index in lista_index:\n",
        "    if (linha != 0):\n",
        "      planilha[linha][index] = float(planilha[linha][index])"
      ],
      "metadata": {
        "id": "6LV8gcvOUhAf"
      },
      "execution_count": 235,
      "outputs": []
    },
    {
      "cell_type": "code",
      "source": [
        "# Encontrar indexs das colunas pelo nome, esses são as colunas que precisam ser tipo int.\n",
        "\n",
        "lista_index = list()\n",
        "\n",
        "for coluna in planilha[0]:\n",
        "  if coluna in ['RA', 'Frequencia']:\n",
        "    lista_index.append(planilha[0].index(coluna))\n",
        "\n",
        "lista_index"
      ],
      "metadata": {
        "colab": {
          "base_uri": "https://localhost:8080/"
        },
        "id": "xB4xXFDUYcVD",
        "outputId": "93daf873-b772-499e-f599-a124e667cf9e"
      },
      "execution_count": 236,
      "outputs": [
        {
          "output_type": "execute_result",
          "data": {
            "text/plain": [
              "[0, 2]"
            ]
          },
          "metadata": {},
          "execution_count": 236
        }
      ]
    },
    {
      "cell_type": "code",
      "source": [
        "# Percorrer a lista e alterar os dados dos indexs anteriores para tipo int.\n",
        "\n",
        "for linha in range(len(planilha)):\n",
        "  for index in lista_index:\n",
        "    if (linha != 0):\n",
        "      planilha[linha][index] = int(planilha[linha][index])"
      ],
      "metadata": {
        "id": "oEPKRCHyYhgD"
      },
      "execution_count": 237,
      "outputs": []
    },
    {
      "cell_type": "code",
      "source": [
        "planilha"
      ],
      "metadata": {
        "colab": {
          "base_uri": "https://localhost:8080/"
        },
        "id": "kqTTunDiXyOj",
        "outputId": "0d7d791f-31f6-4efe-cae9-96a0c000f7ee"
      },
      "execution_count": 238,
      "outputs": [
        {
          "output_type": "execute_result",
          "data": {
            "text/plain": [
              "[['RA', 'Nome', 'Frequencia', 'Prova_1', 'Prova_2', 'Prova_3', 'Prova_4'],\n",
              " [110201, 'Antonio Carlos', 20, 6.5, 8.5, 7.0, 6.0],\n",
              " [110212, 'Ana Beatriz', 20, 7.0, 7.0, 7.0, 8.0],\n",
              " [110218, 'Carlos Vernes', 17, 7.0, 7.0, 7.0, 7.0],\n",
              " [110307, 'Francisco Cunha', 20, 9.0, 8.5, 8.5, 10.0],\n",
              " [110275, 'Sandra Rosa', 15, 6.5, 7.5, 7.0, 7.0],\n",
              " [110281, 'Juliana Arruda', 18, 7.5, 7.0, 7.5, 8.0],\n",
              " [110301, 'Joao Galo', 20, 5.0, 6.5, 7.0, 5.0],\n",
              " [110263, 'José Valente', 20, 10.0, 10.0, 10.0, 10.0],\n",
              " [110271, 'Maria Ferreira', 19, 9.5, 8.0, 7.0, 10.0],\n",
              " [110236, 'Adriana Tavares', 20, 8.0, 8.0, 8.0, 8.0]]"
            ]
          },
          "metadata": {},
          "execution_count": 238
        }
      ]
    },
    {
      "cell_type": "code",
      "source": [
        "[item[1] for item in planilha]"
      ],
      "metadata": {
        "id": "mVQ40s5vdG-K",
        "outputId": "396263a3-934e-43f7-d273-a6f1140cd91f",
        "colab": {
          "base_uri": "https://localhost:8080/"
        }
      },
      "execution_count": 239,
      "outputs": [
        {
          "output_type": "execute_result",
          "data": {
            "text/plain": [
              "['Nome',\n",
              " 'Antonio Carlos',\n",
              " 'Ana Beatriz',\n",
              " 'Carlos Vernes',\n",
              " 'Francisco Cunha',\n",
              " 'Sandra Rosa',\n",
              " 'Juliana Arruda',\n",
              " 'Joao Galo',\n",
              " 'José Valente',\n",
              " 'Maria Ferreira',\n",
              " 'Adriana Tavares']"
            ]
          },
          "metadata": {},
          "execution_count": 239
        }
      ]
    },
    {
      "cell_type": "code",
      "source": [
        "for item in planilha:\n",
        "  print(item[1])"
      ],
      "metadata": {
        "id": "9U6FdcrjdMzR",
        "outputId": "cef9c419-cad3-48af-a71a-46beea73efaa",
        "colab": {
          "base_uri": "https://localhost:8080/"
        }
      },
      "execution_count": 240,
      "outputs": [
        {
          "output_type": "stream",
          "name": "stdout",
          "text": [
            "Nome\n",
            "Antonio Carlos\n",
            "Ana Beatriz\n",
            "Carlos Vernes\n",
            "Francisco Cunha\n",
            "Sandra Rosa\n",
            "Juliana Arruda\n",
            "Joao Galo\n",
            "José Valente\n",
            "Maria Ferreira\n",
            "Adriana Tavares\n"
          ]
        }
      ]
    },
    {
      "cell_type": "code",
      "source": [
        "aluno = 'José Valente'\n",
        "coluna = 'Nome'\n",
        "coluna_notas = ['Prova_1', 'Prova_2', 'Prova_3', 'Prova_4']\n",
        "\n",
        "\n",
        "index_nome = planilha[0].index(coluna)\n",
        "\n",
        "linha_nome = [linha[index_nome] for linha in planilha]\n",
        "\n",
        "index_linha = linha_nome.index(aluno)\n",
        "\n",
        "info_aluno = [notas for notas in planilha[index_linha]]\n",
        "\n",
        "index_notas = [planilha[0].index(coluna) for coluna in coluna_notas]\n",
        "\n",
        "notas = [planilha[index_linha][nota] for nota in index_notas]\n",
        "\n",
        "media = sum(notas) / len(notas)\n",
        "\n",
        "media"
      ],
      "metadata": {
        "id": "fUsTf_kodXoU",
        "outputId": "a702fcf2-a675-490c-85d9-b21e10f433ab",
        "colab": {
          "base_uri": "https://localhost:8080/"
        }
      },
      "execution_count": 241,
      "outputs": [
        {
          "output_type": "execute_result",
          "data": {
            "text/plain": [
              "10.0"
            ]
          },
          "metadata": {},
          "execution_count": 241
        }
      ]
    },
    {
      "cell_type": "code",
      "source": [
        "coluna_notas = ['Prova_1', 'Prova_2', 'Prova_3', 'Prova_4']\n",
        "nome_coluna = 'Média'\n",
        "\n",
        "index_coluna_notas = [planilha[0].index(index_coluna) for index_coluna in coluna_notas]\n",
        "\n",
        "planilha[0].append(nome_coluna)\n",
        "\n",
        "for i,linha in enumerate(planilha):\n",
        "  if(i >= 1):\n",
        "    soma = sum([linha[indice] for indice in index_coluna_notas])\n",
        "    media = soma / len(index_coluna_notas)\n",
        "    planilha[i].append(media)\n",
        "\n",
        "for linha in planilha:\n",
        "  print(linha)"
      ],
      "metadata": {
        "id": "ykmOaxrfUdpb",
        "outputId": "949ac080-ad01-48ab-a6f1-942ae6863131",
        "colab": {
          "base_uri": "https://localhost:8080/"
        }
      },
      "execution_count": 242,
      "outputs": [
        {
          "output_type": "stream",
          "name": "stdout",
          "text": [
            "['RA', 'Nome', 'Frequencia', 'Prova_1', 'Prova_2', 'Prova_3', 'Prova_4', 'Média']\n",
            "[110201, 'Antonio Carlos', 20, 6.5, 8.5, 7.0, 6.0, 7.0]\n",
            "[110212, 'Ana Beatriz', 20, 7.0, 7.0, 7.0, 8.0, 7.25]\n",
            "[110218, 'Carlos Vernes', 17, 7.0, 7.0, 7.0, 7.0, 7.0]\n",
            "[110307, 'Francisco Cunha', 20, 9.0, 8.5, 8.5, 10.0, 9.0]\n",
            "[110275, 'Sandra Rosa', 15, 6.5, 7.5, 7.0, 7.0, 7.0]\n",
            "[110281, 'Juliana Arruda', 18, 7.5, 7.0, 7.5, 8.0, 7.5]\n",
            "[110301, 'Joao Galo', 20, 5.0, 6.5, 7.0, 5.0, 5.875]\n",
            "[110263, 'José Valente', 20, 10.0, 10.0, 10.0, 10.0, 10.0]\n",
            "[110271, 'Maria Ferreira', 19, 9.5, 8.0, 7.0, 10.0, 8.625]\n",
            "[110236, 'Adriana Tavares', 20, 8.0, 8.0, 8.0, 8.0, 8.0]\n"
          ]
        }
      ]
    }
  ]
}
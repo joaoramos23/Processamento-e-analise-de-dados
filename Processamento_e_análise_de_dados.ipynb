{
  "nbformat": 4,
  "nbformat_minor": 0,
  "metadata": {
    "colab": {
      "provenance": [],
      "authorship_tag": "ABX9TyOWgERZ8Qb7AaqY0uLS81k1",
      "include_colab_link": true
    },
    "kernelspec": {
      "name": "python3",
      "display_name": "Python 3"
    },
    "language_info": {
      "name": "python"
    }
  },
  "cells": [
    {
      "cell_type": "markdown",
      "metadata": {
        "id": "view-in-github",
        "colab_type": "text"
      },
      "source": [
        "<a href=\"https://colab.research.google.com/github/joaoramos23/Processamento-e-analise-de-dados/blob/main/Processamento_e_an%C3%A1lise_de_dados.ipynb\" target=\"_parent\"><img src=\"https://colab.research.google.com/assets/colab-badge.svg\" alt=\"Open In Colab\"/></a>"
      ]
    },
    {
      "cell_type": "markdown",
      "source": [
        "# Processamento e análise de dados"
      ],
      "metadata": {
        "id": "57uaVgPgNn0i"
      }
    },
    {
      "cell_type": "code",
      "execution_count": 8,
      "metadata": {
        "id": "APMavzJJM-Xw",
        "outputId": "b373bfca-563f-44ac-b273-467ca2736c82",
        "colab": {
          "base_uri": "https://localhost:8080/"
        }
      },
      "outputs": [
        {
          "output_type": "execute_result",
          "data": {
            "text/plain": [
              "[['RA', 'Nome', 'Frequencia', 'Prova_1', 'Prova_2', 'Prova_3', 'Prova_4'],\n",
              " ['110201', 'Antonio Carlos', '20', '6.5', '8.5', '7', '6'],\n",
              " ['110212', 'Ana Beatriz', '20', '7', '7', '7', '8'],\n",
              " ['110218', 'Carlos Vernes', '17', '7', '7', '7', '7'],\n",
              " ['110307', 'Francisco Cunha', '20', '9', '8.5', '8.5', '10'],\n",
              " ['110275', 'Sandra Rosa', '15', '6.5', '7.5', '7', '7'],\n",
              " ['110281', 'Juliana Arruda', '18', '7.5', '7', '7.5', '8'],\n",
              " ['110301', 'Joao Galo', '20', '5', '6.5', '7', '5'],\n",
              " ['110263', 'José Valente', '20', '10', '10', '10', '10'],\n",
              " ['110271', 'Maria Ferreira', '19', '9.5', '8', '7', '10'],\n",
              " ['110236', 'Adriana Tavares', '20', '8', '8', '8', '8']]"
            ]
          },
          "metadata": {},
          "execution_count": 8
        }
      ],
      "source": [
        "import csv\n",
        "\n",
        "f = open('alunos.csv', 'r', encoding='utf-8')\n",
        "\n",
        "leitor = csv.reader(f, delimiter=\";\", lineterminator=\"\\n\")\n",
        "\n",
        "planilha = []\n",
        "\n",
        "for linha in leitor:\n",
        "  planilha.append(linha)\n",
        "\n",
        "f.close()\n",
        "\n",
        "planilha"
      ]
    }
  ]
}
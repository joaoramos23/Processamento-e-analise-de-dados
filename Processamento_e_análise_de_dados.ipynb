{
  "nbformat": 4,
  "nbformat_minor": 0,
  "metadata": {
    "colab": {
      "provenance": [],
      "authorship_tag": "ABX9TyPltALq7rJ/ozVoC4ZxH+9c",
      "include_colab_link": true
    },
    "kernelspec": {
      "name": "python3",
      "display_name": "Python 3"
    },
    "language_info": {
      "name": "python"
    }
  },
  "cells": [
    {
      "cell_type": "markdown",
      "metadata": {
        "id": "view-in-github",
        "colab_type": "text"
      },
      "source": [
        "<a href=\"https://colab.research.google.com/github/joaoramos23/Processamento-e-analise-de-dados/blob/main/Processamento_e_an%C3%A1lise_de_dados.ipynb\" target=\"_parent\"><img src=\"https://colab.research.google.com/assets/colab-badge.svg\" alt=\"Open In Colab\"/></a>"
      ]
    },
    {
      "cell_type": "markdown",
      "source": [
        "# Processamento e análise de dados"
      ],
      "metadata": {
        "id": "57uaVgPgNn0i"
      }
    },
    {
      "cell_type": "code",
      "execution_count": 53,
      "metadata": {
        "id": "APMavzJJM-Xw",
        "colab": {
          "base_uri": "https://localhost:8080/"
        },
        "outputId": "55121d89-6645-4fa8-86dd-2ca30acc8f35"
      },
      "outputs": [
        {
          "output_type": "execute_result",
          "data": {
            "text/plain": [
              "[['RA', 'Nome', 'Frequencia', 'Prova_1', 'Prova_2', 'Prova_3', 'Prova_4'],\n",
              " ['110201', 'Antonio Carlos', '20', '6.5', '8.5', '7', '6'],\n",
              " ['110212', 'Ana Beatriz', '20', '7', '7', '7', '8'],\n",
              " ['110218', 'Carlos Vernes', '17', '7', '7', '7', '7'],\n",
              " ['110307', 'Francisco Cunha', '20', '9', '8.5', '8.5', '10'],\n",
              " ['110275', 'Sandra Rosa', '15', '6.5', '7.5', '7', '7'],\n",
              " ['110281', 'Juliana Arruda', '18', '7.5', '7', '7.5', '8'],\n",
              " ['110301', 'Joao Galo', '20', '5', '6.5', '7', '5'],\n",
              " ['110263', 'José Valente', '20', '10', '10', '10', '10'],\n",
              " ['110271', 'Maria Ferreira', '19', '9.5', '8', '7', '10'],\n",
              " ['110236', 'Adriana Tavares', '20', '8', '8', '8', '8']]"
            ]
          },
          "metadata": {},
          "execution_count": 53
        }
      ],
      "source": [
        "import csv\n",
        "\n",
        "f = open('alunos.csv', 'r', encoding='utf-8')\n",
        "\n",
        "leitor = csv.reader(f, delimiter=\";\", lineterminator=\"\\n\")\n",
        "\n",
        "planilha = []\n",
        "\n",
        "for linha in leitor:\n",
        "  planilha.append(linha)\n",
        "\n",
        "f.close()\n",
        "\n",
        "planilha"
      ]
    },
    {
      "cell_type": "code",
      "source": [
        "# Encontrar indexs das colunas pelo nome, esses são as colunas que precisam ser tipo float.\n",
        "\n",
        "lista_index = list()\n",
        "\n",
        "for coluna in planilha[0]:\n",
        "  if coluna in ['Prova_1', 'Prova_2', 'Prova_3', 'Prova_4']:\n",
        "    lista_index.append(planilha[0].index(coluna))\n",
        "\n",
        "lista_index"
      ],
      "metadata": {
        "colab": {
          "base_uri": "https://localhost:8080/"
        },
        "id": "op_ot2H3TOrD",
        "outputId": "17be0056-1257-48ba-a13e-5710f6823725"
      },
      "execution_count": 54,
      "outputs": [
        {
          "output_type": "execute_result",
          "data": {
            "text/plain": [
              "[3, 4, 5, 6]"
            ]
          },
          "metadata": {},
          "execution_count": 54
        }
      ]
    },
    {
      "cell_type": "code",
      "source": [
        "# Encontrar indexs das colunas pelo nome, esses são as colunas que precisam ser tipo int.\n",
        "\n",
        "lista_index = list()\n",
        "\n",
        "for coluna in planilha[0]:\n",
        "  if coluna in ['RA', 'Frequencia']:\n",
        "    lista_index.append(planilha[0].index(coluna))\n",
        "\n",
        "lista_index"
      ],
      "metadata": {
        "colab": {
          "base_uri": "https://localhost:8080/"
        },
        "id": "xB4xXFDUYcVD",
        "outputId": "81b6ed5d-c8d6-4f3a-9e77-bb744f812666"
      },
      "execution_count": 57,
      "outputs": [
        {
          "output_type": "execute_result",
          "data": {
            "text/plain": [
              "[0, 2]"
            ]
          },
          "metadata": {},
          "execution_count": 57
        }
      ]
    },
    {
      "cell_type": "code",
      "source": [
        "# Percorrer a lista e alterar os dados dos indexs anteriores para tipo float.\n",
        "\n",
        "for linha in range(len(planilha)):\n",
        "  for index in lista_index:\n",
        "    if (linha != 0):\n",
        "      planilha[linha][index] = float(planilha[linha][index])"
      ],
      "metadata": {
        "id": "6LV8gcvOUhAf"
      },
      "execution_count": 55,
      "outputs": []
    },
    {
      "cell_type": "code",
      "source": [
        "# Percorrer a lista e alterar os dados dos indexs anteriores para tipo int.\n",
        "\n",
        "for linha in range(len(planilha)):\n",
        "  for index in lista_index:\n",
        "    if (linha != 0):\n",
        "      planilha[linha][index] = int(planilha[linha][index])"
      ],
      "metadata": {
        "id": "oEPKRCHyYhgD"
      },
      "execution_count": 58,
      "outputs": []
    },
    {
      "cell_type": "code",
      "source": [
        "planilha"
      ],
      "metadata": {
        "colab": {
          "base_uri": "https://localhost:8080/"
        },
        "id": "kqTTunDiXyOj",
        "outputId": "d0ebbd9b-1405-4467-aec8-fd7d4aff12d9"
      },
      "execution_count": 59,
      "outputs": [
        {
          "output_type": "execute_result",
          "data": {
            "text/plain": [
              "[['RA', 'Nome', 'Frequencia', 'Prova_1', 'Prova_2', 'Prova_3', 'Prova_4'],\n",
              " [110201, 'Antonio Carlos', 20, 6.5, 8.5, 7.0, 6.0],\n",
              " [110212, 'Ana Beatriz', 20, 7.0, 7.0, 7.0, 8.0],\n",
              " [110218, 'Carlos Vernes', 17, 7.0, 7.0, 7.0, 7.0],\n",
              " [110307, 'Francisco Cunha', 20, 9.0, 8.5, 8.5, 10.0],\n",
              " [110275, 'Sandra Rosa', 15, 6.5, 7.5, 7.0, 7.0],\n",
              " [110281, 'Juliana Arruda', 18, 7.5, 7.0, 7.5, 8.0],\n",
              " [110301, 'Joao Galo', 20, 5.0, 6.5, 7.0, 5.0],\n",
              " [110263, 'José Valente', 20, 10.0, 10.0, 10.0, 10.0],\n",
              " [110271, 'Maria Ferreira', 19, 9.5, 8.0, 7.0, 10.0],\n",
              " [110236, 'Adriana Tavares', 20, 8.0, 8.0, 8.0, 8.0]]"
            ]
          },
          "metadata": {},
          "execution_count": 59
        }
      ]
    }
  ]
}